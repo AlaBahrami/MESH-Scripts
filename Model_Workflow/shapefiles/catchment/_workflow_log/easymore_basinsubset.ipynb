{
 "cells": [
  {
   "attachments": {},
   "cell_type": "markdown",
   "metadata": {},
   "source": [
    "# EASYMORE Basin Subset\n",
    "EASYMORE: EArth SYstem MOdeling REmapper is a collection of functions that allows extraction of the data from a NetCDF file for a given shapefile such as a basin, catchment, points or lines. It can map gridded data or model output to any given shapefile and provide area average for a target variable.\n",
    "https://github.com/ShervanGharari/EASYMORE\n",
    "\n",
    "## Subbasin Selection\n",
    "This is an optional script to extract a smaller domain of interest from within a larger domain of discretized subbasins in a shapefile format."
   ]
  },
  {
   "attachments": {},
   "cell_type": "markdown",
   "metadata": {},
   "source": [
    "### Load Modules"
   ]
  },
  {
   "cell_type": "code",
   "execution_count": 12,
   "metadata": {},
   "outputs": [],
   "source": [
    "from easymore.easymore import easymore\n",
    "import geopandas as gpd\n",
    "import numpy as np\n",
    "from pathlib import Path\n",
    "from shutil import copyfile\n",
    "from datetime import datetime"
   ]
  },
  {
   "attachments": {},
   "cell_type": "markdown",
   "metadata": {},
   "source": [
    "### Control File Handling\n",
    "The purpose of the control file is to provide all inputs to the scripts in the vector-based workflow to eliminate the need to alter the workflow scripts themselves. The following cells will retrieve settings from 'control_active.txt' and provide them as inputs to this script."
   ]
  },
  {
   "attachments": {},
   "cell_type": "markdown",
   "metadata": {},
   "source": [
    "##### Access to the control file folder"
   ]
  },
  {
   "cell_type": "code",
   "execution_count": 13,
   "metadata": {},
   "outputs": [],
   "source": [
    "controlFolder = Path('../0_control_files')"
   ]
  },
  {
   "attachments": {},
   "cell_type": "markdown",
   "metadata": {},
   "source": [
    "##### Store the name of the 'active' file in a variable"
   ]
  },
  {
   "cell_type": "code",
   "execution_count": 14,
   "metadata": {},
   "outputs": [],
   "source": [
    "controlFile = 'control_active.txt'"
   ]
  },
  {
   "attachments": {},
   "cell_type": "markdown",
   "metadata": {},
   "source": [
    "##### Function to extract a given setting from the control file"
   ]
  },
  {
   "cell_type": "code",
   "execution_count": 15,
   "metadata": {},
   "outputs": [],
   "source": [
    "def read_from_control( file, setting ):\n",
    "     \n",
    "    # Open 'control_active.txt' and ...\n",
    "    with open(file) as contents:\n",
    "        for line in contents:\n",
    "             \n",
    "            # ... find the line with the requested setting\n",
    "            if setting in line and not line.startswith('#'):\n",
    "                break\n",
    "     \n",
    "    # Extract the setting's value\n",
    "    substring = line.split('|',1)[1]      # Remove the setting's name (split into 2 based on '|', keep only 2nd part)\n",
    "    substring = substring.split('#',1)[0] # Remove comments, does nothing if no '#' is found\n",
    "    substring = substring.strip()         # Remove leading and trailing whitespace, tabs, newlines\n",
    "        \n",
    "    # Return this value   \n",
    "    return substring"
   ]
  },
  {
   "attachments": {},
   "cell_type": "markdown",
   "metadata": {},
   "source": [
    "##### Function to specify a default path"
   ]
  },
  {
   "cell_type": "code",
   "execution_count": 16,
   "metadata": {},
   "outputs": [],
   "source": [
    "def make_default_path(suffix):\n",
    "     \n",
    "    # Get the root path\n",
    "    rootPath = Path( read_from_control(controlFolder/controlFile,'root_path') )\n",
    "     \n",
    "    # Specify the forcing path\n",
    "    #defaultPath = rootPath / domainFolder / suffix\n",
    "    defaultPath = rootPath / suffix \n",
    "    return defaultPath"
   ]
  },
  {
   "attachments": {},
   "cell_type": "markdown",
   "metadata": {},
   "source": [
    "##### Get the domain folder"
   ]
  },
  {
   "cell_type": "code",
   "execution_count": 17,
   "metadata": {},
   "outputs": [],
   "source": [
    "domain_name = read_from_control(controlFolder/controlFile,'domain_name')\n",
    "domainFolder = 'domain_' + domain_name"
   ]
  },
  {
   "attachments": {},
   "cell_type": "markdown",
   "metadata": {},
   "source": [
    "##### Assigning input files"
   ]
  },
  {
   "cell_type": "code",
   "execution_count": 18,
   "metadata": {},
   "outputs": [],
   "source": [
    "# Assign the parent basin\n",
    "input_basin_path = read_from_control(controlFolder/controlFile,'input_basin_path')\n",
    "input_basin_name = read_from_control(controlFolder/controlFile,'input_basin_name')\n",
    "# Specify default path if needed\n",
    "if input_basin_path == 'default':\n",
    "    input_basin_path = make_default_path('shape_file/catchment/') # outputs a Path()\n",
    "else:\n",
    "    input_basin_path = Path(input_basin_path) # make sure a user-specified path is a Path()"
   ]
  },
  {
   "cell_type": "code",
   "execution_count": 19,
   "metadata": {},
   "outputs": [],
   "source": [
    "# Assign the parent river network\n",
    "input_river_path = read_from_control(controlFolder/controlFile,'input_river_path')\n",
    "input_river_name = read_from_control(controlFolder/controlFile,'input_river_name')\n",
    "if input_river_path == 'default':\n",
    "    input_river_path = make_default_path('shape_file/river_network/') # outputs a Path()\n",
    "else:\n",
    "    input_river_path = Path(input_river_path) # make sure a user-specified path is a Path()"
   ]
  },
  {
   "cell_type": "code",
   "execution_count": 20,
   "metadata": {},
   "outputs": [],
   "source": [
    "# Assign the output directories\n",
    "outdir_basin = read_from_control(controlFolder/controlFile,'subset_basin_outdir')\n",
    "outdir_river = read_from_control(controlFolder/controlFile,'subset_river_outdir')\n",
    "if outdir_basin == 'default':\n",
    "    outdir_basin = make_default_path('shape_file/catchment/') # outputs a Path()\n",
    "else:\n",
    "    outdir_basin = Path(outdir_basin) # make sure a user-specified path is a Path() \n",
    "if outdir_river == 'default':\n",
    "    outdir_river = make_default_path('shape_file/river_network/') # outputs a Path()\n",
    "else:\n",
    "    outdir_river = Path(outdir_river) # make sure a user-specified path is a Path()"
   ]
  },
  {
   "attachments": {},
   "cell_type": "markdown",
   "metadata": {},
   "source": [
    "##### Get additional settings"
   ]
  },
  {
   "cell_type": "code",
   "execution_count": 21,
   "metadata": {},
   "outputs": [],
   "source": [
    "hruid = read_from_control(controlFolder/controlFile,'river_basin_shp_rm_hruid')\n",
    "segid = read_from_control(controlFolder/controlFile,'river_network_shp_segid')"
   ]
  },
  {
   "attachments": {},
   "cell_type": "markdown",
   "metadata": {},
   "source": [
    "### Starting EASYMORE"
   ]
  },
  {
   "attachments": {},
   "cell_type": "markdown",
   "metadata": {},
   "source": [
    "##### Initializing easymore object"
   ]
  },
  {
   "cell_type": "code",
   "execution_count": 22,
   "metadata": {},
   "outputs": [
    {
     "name": "stdout",
     "output_type": "stream",
     "text": [
      "EASYMORE version 0.0.4 is initiated.\n"
     ]
    }
   ],
   "source": [
    "esmr = easymore()"
   ]
  },
  {
   "attachments": {},
   "cell_type": "markdown",
   "metadata": {},
   "source": [
    "##### Load the files and calculating the downstream of each segment"
   ]
  },
  {
   "cell_type": "code",
   "execution_count": 23,
   "metadata": {},
   "outputs": [],
   "source": [
    "riv  = gpd.read_file(input_river_path/input_river_name)\n",
    "cat    = gpd.read_file(input_basin_path/input_basin_name)\n",
    "\n",
    "# get all the upstream\n",
    "seg_IDs  = np.array(riv.COMID)\n",
    "down_IDs = np.array(riv.NextDownID)\n",
    "NTOPO    = esmr.get_all_downstream (seg_IDs,down_IDs)\n",
    "\n",
    "# Identify target segment ID\n",
    "esmr.case_name = read_from_control(controlFolder/controlFile,'case_name') #e.g. 05NG001\n",
    "target_segment = int(read_from_control(controlFolder/controlFile,'target_segment')) # e.g. 78011863\n",
    "\n",
    "up_subbasins = esmr.get_all_upstream(target_segment,NTOPO) # segment ID\n"
   ]
  },
  {
   "attachments": {},
   "cell_type": "markdown",
   "metadata": {},
   "source": [
    "##### Subset"
   ]
  },
  {
   "cell_type": "code",
   "execution_count": null,
   "metadata": {},
   "outputs": [],
   "source": [
    "cat_up = cat.loc[cat[hruid].isin(up_subbasins)]\n",
    "riv_up = riv.loc[riv[segid].isin(up_subbasins)]"
   ]
  },
  {
   "attachments": {},
   "cell_type": "markdown",
   "metadata": {},
   "source": [
    "##### Set CRS to EPSG:4326"
   ]
  },
  {
   "cell_type": "code",
   "execution_count": null,
   "metadata": {},
   "outputs": [],
   "source": [
    "cat_up = cat_up.set_crs(4326)\n",
    "riv_up = riv_up.set_crs(4326)"
   ]
  },
  {
   "attachments": {},
   "cell_type": "markdown",
   "metadata": {},
   "source": [
    "##### Plot"
   ]
  },
  {
   "cell_type": "code",
   "execution_count": null,
   "metadata": {},
   "outputs": [],
   "source": [
    "cat_up.plot()\n",
    "riv_up.plot()"
   ]
  },
  {
   "attachments": {},
   "cell_type": "markdown",
   "metadata": {},
   "source": [
    "##### Save files"
   ]
  },
  {
   "cell_type": "code",
   "execution_count": null,
   "metadata": {},
   "outputs": [],
   "source": [
    "cat_up.to_file(str(outdir_basin)+'/'+esmr.case_name+'_cat.shp')\n",
    "riv_up.to_file(str(outdir_river)+'/'+esmr.case_name+'_riv.shp')"
   ]
  },
  {
   "attachments": {},
   "cell_type": "markdown",
   "metadata": {},
   "source": [
    "### Code provenance\n",
    "Generates a basic log file in the domain folder and copies the control file and itself there.\n"
   ]
  },
  {
   "cell_type": "code",
   "execution_count": null,
   "metadata": {},
   "outputs": [],
   "source": [
    "# Set the log path and file name\n",
    "logPath = outdir_basin\n",
    "log_suffix = '_basin_subset.txt'\n",
    " \n",
    "# Create a log folder\n",
    "logFolder = '_workflow_log'\n",
    "Path( logPath / logFolder ).mkdir(parents=True, exist_ok=True)\n",
    " \n",
    "# Copy this script\n",
    "thisFile = 'easymore_basinsubset.ipynb'\n",
    "copyfile(thisFile, logPath / logFolder / thisFile);\n",
    " \n",
    "# Get current date and time\n",
    "now = datetime.now()\n",
    " \n",
    "# Create a log file\n",
    "logFile = now.strftime('%Y%m%d') + log_suffix\n",
    "with open( logPath / logFolder / logFile, 'w') as file:\n",
    "     \n",
    "    lines = ['Log generated by ' + thisFile + ' on ' + now.strftime('%Y/%m/%d %H:%M:%S') + '\\n',\n",
    "             'Generated basin subset .shp files from {} and {}.'.format(input_basin_name,input_river_name)]\n",
    "    for txt in lines:\n",
    "        file.write(txt)"
   ]
  }
 ],
 "metadata": {
  "kernelspec": {
   "display_name": "Python 3",
   "language": "python",
   "name": "python3"
  },
  "language_info": {
   "codemirror_mode": {
    "name": "ipython",
    "version": 3
   },
   "file_extension": ".py",
   "mimetype": "text/x-python",
   "name": "python",
   "nbconvert_exporter": "python",
   "pygments_lexer": "ipython3",
   "version": "3.9.13"
  },
  "orig_nbformat": 4,
  "vscode": {
   "interpreter": {
    "hash": "9b271b39875848de38483eb62c29138594d92c4575023a90ae6ab83d843ef02c"
   }
  }
 },
 "nbformat": 4,
 "nbformat_minor": 2
}
