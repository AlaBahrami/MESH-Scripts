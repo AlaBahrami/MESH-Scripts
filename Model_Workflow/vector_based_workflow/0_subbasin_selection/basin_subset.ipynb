{
 "cells": [
  {
   "attachments": {},
   "cell_type": "markdown",
   "metadata": {},
   "source": [
    "Load Modules"
   ]
  },
  {
   "cell_type": "code",
   "execution_count": 6,
   "metadata": {},
   "outputs": [],
   "source": [
    "from easymore.easymore import easymore\n",
    "import matplotlib.pyplot as plt\n",
    "import geopandas as gpd\n",
    "import numpy as np\n",
    "from pathlib import Path\n",
    "from shutil import copyfile\n",
    "from datetime import datetime\n",
    "import networkx as nx\n",
    "from typing import (\n",
    "    Union,\n",
    ")"
   ]
  },
  {
   "attachments": {},
   "cell_type": "markdown",
   "metadata": {},
   "source": [
    "## Control file handling"
   ]
  },
  {
   "cell_type": "code",
   "execution_count": 7,
   "metadata": {},
   "outputs": [],
   "source": [
    "# Easy access to control file folder\n",
    "controlFolder = Path('../0_control_files')\n",
    " \n",
    "# Store the name of the 'active' file in a variable\n",
    "controlFile = 'control_active.txt'\n",
    " \n",
    "#Function to extract a given setting from the control file\n",
    "def read_from_control( file, setting ):\n",
    "     \n",
    "    # Open 'control_active.txt' and ...\n",
    "    with open(file) as contents:\n",
    "        for line in contents:\n",
    "             \n",
    "            # ... find the line with the requested setting\n",
    "            if setting in line and not line.startswith('#'):\n",
    "                break\n",
    "     \n",
    "    # Extract the setting's value\n",
    "    substring = line.split('|',1)[1]      # Remove the setting's name (split into 2 based on '|', keep only 2nd part)\n",
    "    substring = substring.split('#',1)[0] # Remove comments, does nothing if no '#' is found\n",
    "    substring = substring.strip()         # Remove leading and trailing whitespace, tabs, newlines\n",
    "        \n",
    "    # Return this value   \n",
    "    return substring\n",
    " \n",
    "#Function to specify a default path\n",
    "def make_default_path(suffix):\n",
    "     \n",
    "    # Get the root path\n",
    "    rootPath = Path( read_from_control(controlFolder/controlFile,'root_path') )\n",
    "     \n",
    "    # Get the domain folder\n",
    "    #domain_name = read_from_control(controlFolder/controlFile,'domain_name')\n",
    "    #domainFolder = 'domain_' + domain_name\n",
    "     \n",
    "    # Specify the forcing path\n",
    "    defaultPath = rootPath / suffix\n",
    "     \n",
    "    return defaultPath\n",
    "\n",
    "# Get the domain folder\n",
    "domain_name = read_from_control(controlFolder/controlFile,'domain_name')\n",
    "domainFolder = 'domain_' + domain_name\n",
    "\n",
    "#%% assigning input files\n",
    "# Note : this is an example for the Fraser setup\n",
    "input_basin_path = read_from_control(controlFolder/controlFile,'input_basin_path')\n",
    "input_basin_name = read_from_control(controlFolder/controlFile,'input_basin_name')\n",
    "#input_basin = '../cat_pfaf_78_MERIT_Hydro_v07_Basins_v01_bugfix1.shp'\n",
    "input_river_path = read_from_control(controlFolder/controlFile,'input_river_path')\n",
    "input_river_name = read_from_control(controlFolder/controlFile,'input_river_name')\n",
    "#input_river = '../rivEndoMERITpfaf_78.shp'\n",
    " \n",
    "outdir_basin = read_from_control(controlFolder/controlFile,'subset_basin_outdir')\n",
    "outdir_river = read_from_control(controlFolder/controlFile,'subset_river_outdir')\n",
    "\n",
    "# Specify default path if needed\n",
    "if input_basin_path == 'default':\n",
    "    input_basin_path = make_default_path('shapefiles/catchment/') # outputs a Path()\n",
    "else:\n",
    "    input_basin_path = Path(input_basin_path) # make sure a user-specified path is a Path()\n",
    "    \n",
    "if input_river_path == 'default':\n",
    "    input_river_path = make_default_path('shapefiles/river_network/') # outputs a Path()\n",
    "else:\n",
    "    input_river_path = Path(input_river_path) # make sure a user-specified path is a Path()\n",
    "    \n",
    "if outdir_basin == 'default':\n",
    "    outdir_basin = make_default_path('shapefiles/catchment/') # outputs a Path()\n",
    "else:\n",
    "    outdir_basin = Path(outdir_basin) # make sure a user-specified path is a Path()\n",
    " \n",
    "if outdir_river == 'default':\n",
    "    outdir_river = make_default_path('shapefiles/river_network/') # outputs a Path()\n",
    "else:\n",
    "    outdir_river = Path(outdir_river) # make sure a user-specified path is a Path()\n",
    "\n",
    "# Get additional settings\n",
    "hruid = read_from_control(controlFolder/controlFile,'river_basin_shp_rm_hruid')\n",
    "segid = read_from_control(controlFolder/controlFile,'river_network_shp_segid')\n",
    "downid = read_from_control(controlFolder/controlFile,'river_network_shp_downsegid')\n",
    "target_segment = int(read_from_control(controlFolder/controlFile,'target_segment')) # e.g. 78011863\n",
    "case_name = read_from_control(controlFolder/controlFile,'case_name') #e.g. 05NG001"
   ]
  },
  {
   "cell_type": "code",
   "execution_count": 8,
   "metadata": {},
   "outputs": [],
   "source": [
    "def find_upstream(\n",
    "    gdf: gpd.GeoDataFrame,\n",
    "    target_id: Union[str, int],\n",
    "    main_id: str,\n",
    "    ds_main_id: str,\n",
    "):\n",
    "    '''Find \"ancestors\" or upstream segments in a river network given\n",
    "    in the from of a geopandas.GeoDataFrame `gdf`\n",
    "    \n",
    "    Parameters:\n",
    "    -----------\n",
    "    gdf: geopandas.GeoDataFrame\n",
    "        GeoDataFrame of river segments including at least three pieces\n",
    "        of information: 1) geometries of segments, 2) segment IDs, and\n",
    "        3) downstream segment IDs\n",
    "    target_id: str, int, or any other data type as included in `gdf`\n",
    "        Indicating the target ID anscestor or upstream of which is\n",
    "        desired\n",
    "    main_id: str\n",
    "        String defining the column of element IDs in the input geopandas\n",
    "        dataframe\n",
    "    ds_main_id: str\n",
    "        String defining the column of downstream element IDs in the\n",
    "        input geopandas dataframe\n",
    "    \n",
    "    Returns:\n",
    "    --------\n",
    "    nodes: set\n",
    "        IDs of nodes being upstream or anscestor of the `target_id`\n",
    "    \n",
    "    '''\n",
    "    # creating a DiGraph out of `gdf` object\n",
    "    riv_graph = nx.from_pandas_edgelist(gdf, source=main_id, target=ds_main_id, create_using=nx.DiGraph)\n",
    "    \n",
    "    # return nodes in a list\n",
    "    nodes = nx.ancestors(riv_graph, target_id)\n",
    "    nodes.add(target_id)\n",
    "\n",
    "    return nodes"
   ]
  },
  {
   "cell_type": "code",
   "execution_count": null,
   "metadata": {},
   "outputs": [],
   "source": []
  },
  {
   "attachments": {},
   "cell_type": "markdown",
   "metadata": {},
   "source": [
    "## Load Shapefiles"
   ]
  },
  {
   "cell_type": "code",
   "execution_count": 9,
   "metadata": {},
   "outputs": [],
   "source": [
    "riv  = gpd.read_file(input_river_path/input_river_name)\n",
    "cat  = gpd.read_file(input_basin_path/input_basin_name)"
   ]
  },
  {
   "attachments": {},
   "cell_type": "markdown",
   "metadata": {},
   "source": [
    "### Call upstream function"
   ]
  },
  {
   "cell_type": "code",
   "execution_count": 10,
   "metadata": {},
   "outputs": [],
   "source": [
    "upstream_segments   = find_upstream(riv, target_segment, segid, downid)"
   ]
  },
  {
   "attachments": {},
   "cell_type": "markdown",
   "metadata": {},
   "source": [
    "### Create subset"
   ]
  },
  {
   "cell_type": "code",
   "execution_count": 11,
   "metadata": {},
   "outputs": [],
   "source": [
    "riv_up = riv.loc[riv[segid].isin(upstream_segments)]\n",
    "riv_up = riv_up.set_crs(4326)\n",
    "\n",
    "cat_up = cat.loc[cat[hruid].isin(upstream_segments)]\n",
    "cat_up = cat_up.set_crs(4326)"
   ]
  },
  {
   "cell_type": "code",
   "execution_count": 12,
   "metadata": {},
   "outputs": [
    {
     "data": {
      "image/png": "[encoded data removed]",
      "text/plain": [
       "<Figure size 640x480 with 1 Axes>"
      ]
     },
     "metadata": {},
     "output_type": "display_data"
    },
    {
     "data": {
      "image/png": "[encoded data removed]",
      "text/plain": [
       "<Figure size 640x480 with 1 Axes>"
      ]
     },
     "metadata": {},
     "output_type": "display_data"
    }
   ],
   "source": [
    "# plot\n",
    "cat_up.plot()\n",
    "riv_up.plot()\n",
    "# save\n",
    "cat_up.to_file(str(outdir_basin)+'/'+case_name+'_cat.shp')\n",
    "riv_up.to_file(str(outdir_river)+'/'+case_name+'_riv.shp')"
   ]
  },
  {
   "attachments": {},
   "cell_type": "markdown",
   "metadata": {},
   "source": [
    "## Code provenance"
   ]
  },
  {
   "cell_type": "code",
   "execution_count": 13,
   "metadata": {},
   "outputs": [],
   "source": [
    "# Generates a basic log file in the domain folder and copies the control file and itself there.\n",
    " \n",
    "# Set the log path and file name\n",
    "logPath = outdir_basin\n",
    "log_suffix = '_basin_subset.txt'\n",
    " \n",
    "# Create a log folder\n",
    "logFolder = '_workflow_log'\n",
    "Path( logPath / logFolder ).mkdir(parents=True, exist_ok=True)\n",
    " \n",
    "# Copy this script\n",
    "thisFile = 'basin_subset.ipynb'\n",
    "copyfile(thisFile, logPath / logFolder / thisFile);\n",
    " \n",
    "# Get current date and time\n",
    "now = datetime.now()\n",
    " \n",
    "# Create a log file\n",
    "logFile = now.strftime('%Y%m%d') + log_suffix\n",
    "with open( logPath / logFolder / logFile, 'w') as file:\n",
    "     \n",
    "    lines = ['Log generated by ' + thisFile + ' on ' + now.strftime('%Y/%m/%d %H:%M:%S') + '\\n',\n",
    "             'Generated basin subset .shp files from {} and {}.'.format(input_basin_name,input_river_name)]\n",
    "    for txt in lines:\n",
    "        file.write(txt)"
   ]
  },
  {
   "cell_type": "code",
   "execution_count": null,
   "metadata": {},
   "outputs": [],
   "source": []
  }
 ],
 "metadata": {
  "kernelspec": {
   "display_name": "ESMR",
   "language": "python",
   "name": "python3"
  },
  "language_info": {
   "codemirror_mode": {
    "name": "ipython",
    "version": 3
   },
   "file_extension": ".py",
   "mimetype": "text/x-python",
   "name": "python",
   "nbconvert_exporter": "python",
   "pygments_lexer": "ipython3",
   "version": "3.8.10"
  },
  "orig_nbformat": 4
 },
 "nbformat": 4,
 "nbformat_minor": 2
}
